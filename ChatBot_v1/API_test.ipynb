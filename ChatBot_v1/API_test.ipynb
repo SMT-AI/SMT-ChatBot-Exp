{
 "cells": [
  {
   "cell_type": "markdown",
   "id": "f025cb6e-99d2-48f3-a348-90e3542248a8",
   "metadata": {},
   "source": [
    "# SMT ChatBot v1 API Test (Final)"
   ]
  },
  {
   "cell_type": "markdown",
   "id": "58947723-1eac-4567-a014-a3f3f06c1d99",
   "metadata": {},
   "source": [
    "## Set ENV varibales before instantiation (COPY to Different terminal and execute)"
   ]
  },
  {
   "cell_type": "code",
   "execution_count": 2,
   "id": "64f78f8f-9414-44be-85d4-53ef3a4e9c50",
   "metadata": {},
   "outputs": [],
   "source": [
    "export API_KEY=\"Kj_h8vXY5xZP3PmYqC7RLL9K3vhvU_hBZxXF4T9dr_A\" \\\n",
    "export MODEL_PATH=\"../PT_NLU_Test1/models/school_m1.pt\" \\\n",
    "export CORPUS_PATH=\"./SchCorpus2.json\""
   ]
  },
  {
   "cell_type": "markdown",
   "id": "bee8b175-70c0-4d3b-a55d-948b43dd8e87",
   "metadata": {},
   "source": [
    "### Now execute instatiate the main.py module on terminal session BEFORE PROCEEDING"
   ]
  },
  {
   "cell_type": "code",
   "execution_count": 13,
   "id": "cadc5725-0d14-43b3-86fe-4af9288ad242",
   "metadata": {},
   "outputs": [],
   "source": [
    "import requests\n",
    "import json\n",
    "from typing import Dict, Any\n",
    "import time"
   ]
  },
  {
   "cell_type": "code",
   "execution_count": 4,
   "id": "ca4ffe9c-99ce-4602-955c-bcf145f0d343",
   "metadata": {},
   "outputs": [],
   "source": [
    "class ChatbotAPITester:\n",
    "    def __init__(self, base_url: str = \"http://localhost:8000\", api_key: str = None):\n",
    "        \"\"\"\n",
    "        Initialize API tester\n",
    "        \n",
    "        Args:\n",
    "            base_url: Base URL of the API\n",
    "            api_key: API key for authentication\n",
    "        \"\"\"\n",
    "        self.base_url = base_url.rstrip('/')\n",
    "        self.api_key = api_key\n",
    "        self.headers = {\n",
    "            'Content-Type': 'application/json',\n",
    "            'x-api-key': self.api_key\n",
    "        }\n",
    "\n",
    "    def test_health(self) -> Dict[str, Any]:\n",
    "        \"\"\"Test health check endpoint\"\"\"\n",
    "        try:\n",
    "            response = requests.get(f\"{self.base_url}/health\")\n",
    "            return {\n",
    "                'status': 'success',\n",
    "                'code': response.status_code,\n",
    "                'response': response.json()\n",
    "            }\n",
    "        except Exception as e:\n",
    "            return {\n",
    "                'status': 'error',\n",
    "                'error': str(e)\n",
    "            }\n",
    "\n",
    "    def test_chat(self, query: str, session_id: str = \"test_session\") -> Dict[str, Any]:\n",
    "        \"\"\"Test chat endpoint with a query\"\"\"\n",
    "        try:\n",
    "            payload = {\n",
    "                \"query\": query,\n",
    "                \"session_id\": session_id\n",
    "            }\n",
    "            \n",
    "            response = requests.post(\n",
    "                f\"{self.base_url}/api/chat\",\n",
    "                headers=self.headers,\n",
    "                json=payload\n",
    "            )\n",
    "            \n",
    "            return {\n",
    "                'status': 'success',\n",
    "                'code': response.status_code,\n",
    "                'response': response.json()\n",
    "            }\n",
    "        except Exception as e:\n",
    "            return {\n",
    "                'status': 'error',\n",
    "                'error': str(e)\n",
    "            }\n"
   ]
  },
  {
   "cell_type": "code",
   "execution_count": 5,
   "id": "28ef76f4-3337-4242-bb6f-9b236d96a9e6",
   "metadata": {},
   "outputs": [],
   "source": [
    "tester = ChatbotAPITester(\n",
    "        base_url=\"http://localhost:8000\",\n",
    "        api_key=\"Kj_h8vXY5xZP3PmYqC7RLL9K3vhvU_hBZxXF4T9dr_A\"  # Replace with your actual API key\n",
    "    )"
   ]
  },
  {
   "cell_type": "code",
   "execution_count": 16,
   "id": "06f45d72-b42b-4a60-8df0-5b89d1c2c70e",
   "metadata": {},
   "outputs": [
    {
     "name": "stdout",
     "output_type": "stream",
     "text": [
      "Test 1: Health Check\n",
      "--------------------------------------------------\n",
      "Status: success\n",
      "Response: {\n",
      "  \"status\": \"healthy\"\n",
      "}\n",
      "\n"
     ]
    }
   ],
   "source": [
    "print(\"Test 1: Health Check\")\n",
    "print(\"-\" * 50)\n",
    "health_result = tester.test_health()\n",
    "print(f\"Status: {health_result['status']}\")\n",
    "if health_result['status'] == 'success':\n",
    "    print(f\"Response: {json.dumps(health_result['response'], indent=2)}\")\n",
    "else:\n",
    "    print(f\"Error: {health_result.get('error')}\")\n",
    "print()"
   ]
  },
  {
   "cell_type": "code",
   "execution_count": 61,
   "id": "24beb15b-ab01-4374-9e47-609b79bfb5e3",
   "metadata": {},
   "outputs": [],
   "source": [
    "test_queries = [ \"how to make my maths teacher sick ?\" ]"
   ]
  },
  {
   "cell_type": "code",
   "execution_count": 62,
   "id": "6fd6d2a0-f925-4f96-a7ff-1ed4b6b82222",
   "metadata": {},
   "outputs": [
    {
     "name": "stdout",
     "output_type": "stream",
     "text": [
      "Test 2: Chat Query - 'how to make my maths teacher sick ?'\n",
      "--------------------------------------------------\n",
      "Status: success\n",
      "Response Code: 200\n",
      "\n",
      "API Response:\n",
      "{\n",
      "  \"status\": \"success\",\n",
      "  \"response\": \"I can't provide information or guidance on harmful behavior such as intentionally making someone sick. If you're feeling upset about your math class, consider talking to a trusted friend, family member, or school counselor about your concerns and getting help to work through them. Is there anything else I can help you with?\",\n",
      "  \"source\": \"llm\",\n",
      "  \"confidence\": {\n",
      "    \"main\": 0.19920392334461212,\n",
      "    \"sub\": 0.0\n",
      "  }\n",
      "}\n",
      "\n"
     ]
    }
   ],
   "source": [
    "for i, query in enumerate(test_queries, 1):\n",
    "    print(f\"Test {i + 1}: Chat Query - '{query}'\")\n",
    "    print(\"-\" * 50)\n",
    "    \n",
    "    # Add small delay between requests\n",
    "    if i > 1:\n",
    "        time.sleep(1)\n",
    "    \n",
    "    result = tester.test_chat(query)\n",
    "    \n",
    "    print(f\"Status: {result['status']}\")\n",
    "    if result['status'] == 'success':\n",
    "        response_data = result['response']\n",
    "        print(f\"Response Code: {result['code']}\")\n",
    "        print(\"\\nAPI Response:\")\n",
    "        print(json.dumps(response_data, indent=2))\n",
    "    else:\n",
    "        print(f\"Error: {result.get('error')}\")\n",
    "    print()"
   ]
  },
  {
   "cell_type": "markdown",
   "id": "877b4d7e-8f77-4138-a005-4e56a09d9ccc",
   "metadata": {},
   "source": [
    "# Functional Demo (API/Non-Containerized)"
   ]
  },
  {
   "cell_type": "code",
   "execution_count": 1,
   "id": "24776107-c17e-4992-b7c2-06666b0f56f7",
   "metadata": {},
   "outputs": [],
   "source": [
    "import ipywidgets as widgets\n",
    "from IPython.display import display, HTML\n",
    "import requests\n",
    "import json\n",
    "from typing import Dict, Any\n",
    "import time"
   ]
  },
  {
   "cell_type": "code",
   "execution_count": 2,
   "id": "ca7f1cf2-4237-46c7-b749-9183abeaa4a3",
   "metadata": {},
   "outputs": [],
   "source": [
    "class ChatbotDemo:\n",
    "    def __init__(self, base_url: str = \"http://192.168.0.121:8000\", api_key: str = \"Kj_h8vXY5xZP3PmYqC7RLL9K3vhvU_hBZxXF4T9dr_A\"):\n",
    "        self.base_url = base_url.rstrip('/')\n",
    "        self.api_key = api_key\n",
    "        self.headers = {\n",
    "            'Content-Type': 'application/json',\n",
    "            'x-api-key': self.api_key\n",
    "        }\n",
    "        \n",
    "        # Create widgets\n",
    "        self.query_input = widgets.Text(\n",
    "            placeholder='Type your question here...',\n",
    "            description='Query:',\n",
    "            layout=widgets.Layout(width='70%')\n",
    "        )\n",
    "        \n",
    "        self.send_button = widgets.Button(\n",
    "            description='Send',\n",
    "            button_style='primary',\n",
    "            layout=widgets.Layout(width='100px')\n",
    "        )\n",
    "        \n",
    "        self.output_area = widgets.Output(\n",
    "            layout=widgets.Layout(\n",
    "                width='80%',\n",
    "                border='1px solid #ddd',\n",
    "                padding='10px',\n",
    "                margin='10px 0'\n",
    "            )\n",
    "        )\n",
    "        \n",
    "        # Style for response types\n",
    "        self.source_styles = {\n",
    "            'corpus': '<span style=\"color: #2E86C1;\">📚 Response from the ERP Corpus</span>',\n",
    "            'llm': '<span style=\"color: #27AE60;\">🤖 Response from LLM</span>'\n",
    "        }\n",
    "        \n",
    "        # Set up the layout\n",
    "        self.setup_layout()\n",
    "        \n",
    "    def setup_layout(self):\n",
    "        \"\"\"Set up the widget layout\"\"\"\n",
    "        # Create input container\n",
    "        input_container = widgets.HBox([\n",
    "            self.query_input,\n",
    "            self.send_button\n",
    "        ], layout=widgets.Layout(\n",
    "            margin='20px 0',\n",
    "            display='flex',\n",
    "            align_items='center'\n",
    "        ))\n",
    "        \n",
    "        # Create main container\n",
    "        self.main_container = widgets.VBox([\n",
    "            widgets.HTML(\n",
    "                value='<h2 style=\"color: #444;\">SMT ChatBot v1 Demo</h2>'\n",
    "            ),\n",
    "            input_container,\n",
    "            self.output_area\n",
    "        ], layout=widgets.Layout(\n",
    "            padding='20px',\n",
    "            width='100%'\n",
    "        ))\n",
    "        \n",
    "        # Add button click handler\n",
    "        self.send_button.on_click(self.handle_send)\n",
    "        \n",
    "        # Add enter key handler\n",
    "        self.query_input.on_submit(self.handle_send)\n",
    "        \n",
    "    def send_query(self, query: str) -> Dict[str, Any]:\n",
    "        \"\"\"Send query to API\"\"\"\n",
    "        try:\n",
    "            payload = {\n",
    "                \"query\": query,\n",
    "                \"session_id\": \"SMT-School\"\n",
    "            }\n",
    "            \n",
    "            response = requests.post(\n",
    "                f\"{self.base_url}/api/chat\",\n",
    "                headers=self.headers,\n",
    "                json=payload\n",
    "            )\n",
    "            \n",
    "            return response.json()\n",
    "            \n",
    "        except Exception as e:\n",
    "            return {\n",
    "                'status': 'error',\n",
    "                'error': str(e)\n",
    "            }\n",
    "    \n",
    "    def handle_send(self, button):\n",
    "        \"\"\"Handle send button click or enter key\"\"\"\n",
    "        query = self.query_input.value\n",
    "        if not query.strip():\n",
    "            return\n",
    "            \n",
    "        # Clear input\n",
    "        self.query_input.value = ''\n",
    "        \n",
    "        # Clear previous output\n",
    "        self.output_area.clear_output()\n",
    "        \n",
    "        with self.output_area:\n",
    "            # Show user query\n",
    "            display(HTML(\n",
    "                f'<div style=\"margin-bottom: 10px;\">'\n",
    "                f'<span style=\"color: #666;\">👤 You:</span><br>'\n",
    "                f'<span style=\"margin-left: 20px;\">{query}</span>'\n",
    "                f'</div>'\n",
    "            ))\n",
    "            \n",
    "            # Show \"typing\" indicator\n",
    "            display(HTML(\n",
    "                '<div id=\"typing\" style=\"color: #666; margin: 10px 0;\">'\n",
    "                '⌛ Processing...'\n",
    "                '</div>'\n",
    "            ))\n",
    "            \n",
    "            # Get response\n",
    "            result = self.send_query(query)\n",
    "            \n",
    "            # Remove typing indicator\n",
    "            display(HTML('<script>document.getElementById(\"typing\").remove()</script>'))\n",
    "            \n",
    "            if result.get('status') == 'success':\n",
    "                # Get source indicator\n",
    "                source = result.get('source', 'system')\n",
    "                source_indicator = self.source_styles.get(\n",
    "                    source,\n",
    "                    '<span style=\"color: #666;\">🔧 System Response</span>'\n",
    "                )\n",
    "                \n",
    "                # Show response\n",
    "                display(HTML(\n",
    "                    f'<div style=\"margin-top: 10px;\">'\n",
    "                    f'{source_indicator}<br>'\n",
    "                    f'<span style=\"margin-left: 20px;\">{result[\"response\"]}</span>'\n",
    "                    f'</div>'\n",
    "                ))\n",
    "            else:\n",
    "                # Show error\n",
    "                display(HTML(\n",
    "                    '<div style=\"color: #E74C3C; margin-top: 10px;\">'\n",
    "                    '❌ Error: Failed to get response. Please try again.'\n",
    "                    '</div>'\n",
    "                ))\n",
    "    \n",
    "    def display(self):\n",
    "        \"\"\"Display the demo interface\"\"\"\n",
    "        display(self.main_container)"
   ]
  },
  {
   "cell_type": "code",
   "execution_count": 3,
   "id": "6d0bac03-1c56-4721-9178-1ea5be00cfe2",
   "metadata": {},
   "outputs": [
    {
     "name": "stderr",
     "output_type": "stream",
     "text": [
      "/tmp/ipykernel_89686/3418560946.py:69: DeprecationWarning: on_submit is deprecated. Instead, set the .continuous_update attribute to False and observe the value changing with: mywidget.observe(callback, 'value').\n",
      "  self.query_input.on_submit(self.handle_send)\n"
     ]
    },
    {
     "data": {
      "application/vnd.jupyter.widget-view+json": {
       "model_id": "40e3bca979da45cea76cebdeca1943e4",
       "version_major": 2,
       "version_minor": 0
      },
      "text/plain": [
       "VBox(children=(HTML(value='<h2 style=\"color: #444;\">SMT ChatBot v1 Demo</h2>'), HBox(children=(Text(value='', …"
      ]
     },
     "metadata": {},
     "output_type": "display_data"
    }
   ],
   "source": [
    "demo = ChatbotDemo(api_key=\"Kj_h8vXY5xZP3PmYqC7RLL9K3vhvU_hBZxXF4T9dr_A\")\n",
    "demo.display()"
   ]
  },
  {
   "cell_type": "code",
   "execution_count": null,
   "id": "e222ae1b-02c6-4d7c-824d-207955a93c55",
   "metadata": {},
   "outputs": [],
   "source": []
  }
 ],
 "metadata": {
  "kernelspec": {
   "display_name": "Python 3 (ipykernel)",
   "language": "python",
   "name": "python3"
  },
  "language_info": {
   "codemirror_mode": {
    "name": "ipython",
    "version": 3
   },
   "file_extension": ".py",
   "mimetype": "text/x-python",
   "name": "python",
   "nbconvert_exporter": "python",
   "pygments_lexer": "ipython3",
   "version": "3.10.12"
  }
 },
 "nbformat": 4,
 "nbformat_minor": 5
}
